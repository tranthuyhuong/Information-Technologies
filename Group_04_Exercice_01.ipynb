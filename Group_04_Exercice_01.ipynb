{
 "cells": [
  {
   "cell_type": "markdown",
   "metadata": {},
   "source": [
    "# Exercice 01:\n",
    "\n",
    "The following exercice requires some understanding in the following subjects: \n",
    "- understand the notion of variable and data-types\n",
    "- read the user inputs \n",
    "- understand conditions in python\n",
    "\n"
   ]
  },
  {
   "cell_type": "code",
   "execution_count": null,
   "metadata": {},
   "outputs": [],
   "source": [
    "## 1. Review: \n",
    "\n",
    "### 1.a. Create two variables `time` and `distance` with the following values \"6.89\" and \"16.7\" .\n",
    "#Compute the speed and save it in a variable called `speed` and print then the speed. "
   ]
  },
  {
   "cell_type": "code",
   "execution_count": 5,
   "metadata": {},
   "outputs": [
    {
     "name": "stdout",
     "output_type": "stream",
     "text": [
      "The speed is 2.423802612481858 mile/hour\n"
     ]
    }
   ],
   "source": [
    "# declare the two variables time and distance\n",
    "time = 6.89\n",
    "distance = 16.7\n",
    "speed = distance / time\n",
    "print('The speed is', speed,'mile/hour')"
   ]
  },
  {
   "cell_type": "markdown",
   "metadata": {},
   "source": [
    "### 1.b. Create a list called `special_lst` with the following values: [12,8,9,13,11,10]. Compute the average value of all the value of the list with index and save it to a variable called `avg_special_lst` . "
   ]
  },
  {
   "cell_type": "code",
   "execution_count": 28,
   "metadata": {},
   "outputs": [
    {
     "name": "stdout",
     "output_type": "stream",
     "text": [
      "sum is    : 63\n",
      "lenth is  : 7\n",
      "average is: 9.0\n"
     ]
    }
   ],
   "source": [
    "# create the list and then compute its average value\n",
    "special_lst = [12,8,9,13,11,10]\n",
    "type (special_lst)\n",
    "special_lenth = len(special_lst)+1\n",
    "sum_special_lst = special_lst[0]+special_lst[1]+special_lst[2]+special_lst[3]+special_lst[4]+special_lst[5]\n",
    "avg_special_lst = sum_special_lst / special_lenth\n",
    "print('sum is    :',sum_special_lst)\n",
    "print('lenth is  :',special_lenth)\n",
    "print('average is:',avg_special_lst)"
   ]
  },
  {
   "cell_type": "code",
   "execution_count": 46,
   "metadata": {
    "scrolled": true
   },
   "outputs": [
    {
     "data": {
      "text/plain": [
       "True"
      ]
     },
     "execution_count": 46,
     "metadata": {},
     "output_type": "execute_result"
    }
   ],
   "source": [
    "tiger = 'cat' \n",
    "tiger is 'cat'"
   ]
  },
  {
   "cell_type": "code",
   "execution_count": 47,
   "metadata": {},
   "outputs": [
    {
     "data": {
      "text/plain": [
       "True"
      ]
     },
     "execution_count": 47,
     "metadata": {},
     "output_type": "execute_result"
    }
   ],
   "source": [
    "lion = tiger\n",
    "lion is 'cat'"
   ]
  },
  {
   "cell_type": "code",
   "execution_count": 48,
   "metadata": {},
   "outputs": [
    {
     "data": {
      "text/plain": [
       "True"
      ]
     },
     "execution_count": 48,
     "metadata": {},
     "output_type": "execute_result"
    }
   ],
   "source": [
    "kitty = lion\n",
    "kitty is 'cat'"
   ]
  },
  {
   "cell_type": "code",
   "execution_count": 49,
   "metadata": {},
   "outputs": [
    {
     "data": {
      "text/plain": [
       "True"
      ]
     },
     "execution_count": 49,
     "metadata": {},
     "output_type": "execute_result"
    }
   ],
   "source": [
    "cheetah = 'cat'\n",
    "cheetah is lion"
   ]
  },
  {
   "cell_type": "code",
   "execution_count": 50,
   "metadata": {},
   "outputs": [
    {
     "data": {
      "text/plain": [
       "True"
      ]
     },
     "execution_count": 50,
     "metadata": {},
     "output_type": "execute_result"
    }
   ],
   "source": [
    "cheetah != tiger\n",
    "cheetah is kitty"
   ]
  },
  {
   "cell_type": "code",
   "execution_count": 51,
   "metadata": {},
   "outputs": [
    {
     "data": {
      "text/plain": [
       "True"
      ]
     },
     "execution_count": 51,
     "metadata": {},
     "output_type": "execute_result"
    }
   ],
   "source": [
    "cheetah is tiger"
   ]
  },
  {
   "cell_type": "code",
   "execution_count": 53,
   "metadata": {},
   "outputs": [
    {
     "data": {
      "text/plain": [
       "False"
      ]
     },
     "execution_count": 53,
     "metadata": {},
     "output_type": "execute_result"
    }
   ],
   "source": [
    "owl = 'bird'\n",
    "cheetah is 'bird'"
   ]
  },
  {
   "cell_type": "code",
   "execution_count": 54,
   "metadata": {},
   "outputs": [
    {
     "data": {
      "text/plain": [
       "False"
      ]
     },
     "execution_count": 54,
     "metadata": {},
     "output_type": "execute_result"
    }
   ],
   "source": [
    "tiger is owl"
   ]
  },
  {
   "cell_type": "code",
   "execution_count": 55,
   "metadata": {},
   "outputs": [
    {
     "data": {
      "text/plain": [
       "True"
      ]
     },
     "execution_count": 55,
     "metadata": {},
     "output_type": "execute_result"
    }
   ],
   "source": [
    "tiger is lion and tiger is kitty"
   ]
  },
  {
   "cell_type": "code",
   "execution_count": 59,
   "metadata": {},
   "outputs": [
    {
     "data": {
      "text/plain": [
       "True"
      ]
     },
     "execution_count": 59,
     "metadata": {},
     "output_type": "execute_result"
    }
   ],
   "source": [
    "tiger is cheetah and tiger is not owl"
   ]
  },
  {
   "cell_type": "markdown",
   "metadata": {},
   "source": [
    "### 1.c. Given the following variables: \n",
    "```python\n",
    "\n",
    "tiger = 'cat'\n",
    "lion = 'cat'\n",
    "kitty = 'cat'\n",
    "cheetah = 'cat' \n",
    "hyena = 'dog'\n",
    "wolf = 'dog' \n",
    "husky = 'dog'\n",
    "owl = 'bird' \n",
    "pigeon = 'bird'\n",
    "duck = 'bird'\n",
    "```\n",
    "\n",
    "Write the following statements in Boolean and print the answer: \n",
    "\n",
    "```python\n",
    "\n",
    "ex: is_tiger_a_cat = (tiger == 'cat') # true because 'true equals true' is true.\n",
    " \n",
    "tiger_is_not_a_dog \n",
    "\n",
    "a_duck_is_not_a_cat\n",
    "\n",
    "a_piegon_is_neither_a_cat_nor_a_dog  \n",
    "\n",
    "a_wolf_is_a_bird\n",
    "\n",
    "a_duck_is_a_pigeon\n",
    "\n",
    "owl_is_a_duck_or_a_cheetah  \n",
    "\n",
    "husky_is_a_bird_or_duck_is_a_cat\n",
    "\n",
    "owl_is_a_duck_and_hyena_is_a_wolf \n",
    "```\n",
    "\n",
    "\n"
   ]
  },
  {
   "cell_type": "markdown",
   "metadata": {},
   "source": [
    "## 2. Conditions\n",
    "### 2.a. Ask the user for an input (as Integer), save it to a variable called `user_number` and print if the entered number is an *odd* or an *even* number. \n"
   ]
  },
  {
   "cell_type": "code",
   "execution_count": 62,
   "metadata": {},
   "outputs": [
    {
     "name": "stdout",
     "output_type": "stream",
     "text": [
      "8\n",
      "it is an even number.\n",
      "Please check if the number is even.\n"
     ]
    }
   ],
   "source": [
    "# Scenario examples: # user inpt: 3 # response: 3 it is an odd number  # -----------------------------------\n",
    "# user input: 14  # response: 14 is an even number  # -----------------------------------\n",
    "# get the user_number # check if user_number is even. \n",
    "user_number = int(input())\n",
    "test_user_number = user_number % 2\n",
    "if test_user_number == 0:\n",
    "    print ('it is an even number.')\n",
    "else:\n",
    "    print ('it is an odd number')\n",
    "print ('Please check if the number is even.')"
   ]
  },
  {
   "cell_type": "markdown",
   "metadata": {},
   "source": [
    "### 2.b. Ask the user for 3 integer inputs `val_1`, `val_2` and `val_3` .  Create also a variable `val_min`. And then whith the help of if (elif, else) statement ,make the variable `val_min`get the *minimum value* of the `val_1` , `val_2` and `val_3` (without using any other method or function, ONLY with IF and ELIF) "
   ]
  },
  {
   "cell_type": "code",
   "execution_count": 19,
   "metadata": {},
   "outputs": [
    {
     "name": "stdout",
     "output_type": "stream",
     "text": [
      "1\n",
      "1\n",
      "1\n",
      "val_min is 1\n"
     ]
    }
   ],
   "source": [
    "# for example ilf val_1 = 3, val_2 = 4 and val_3 = 7 then val_min shoud be 3\n",
    "val_1 = int(input())\n",
    "val_2 = int(input())\n",
    "val_3 = int(input())\n",
    "if val_1 >= val_2:\n",
    "    if val_2 >= val_3:\n",
    "        print('val_min is', val_3)\n",
    "    else:\n",
    "        print('val_min is', val_2)\n",
    "elif val_1 <= val_2:\n",
    "    if val_1 >= val_3:\n",
    "        print('val_min is', val_3)\n",
    "    else:\n",
    "        print('val_min is', val_1)\n",
    "else:\n",
    "    print('keine Ahnung!')"
   ]
  },
  {
   "cell_type": "code",
   "execution_count": null,
   "metadata": {},
   "outputs": [],
   "source": []
  },
  {
   "cell_type": "markdown",
   "metadata": {},
   "source": [
    "### 2.b. Ask the user for an input (Integer), save it to a variable called `user_number` and print if the entered number is a negative or a positive number \n"
   ]
  },
  {
   "cell_type": "code",
   "execution_count": 1,
   "metadata": {},
   "outputs": [
    {
     "name": "stdin",
     "output_type": "stream",
     "text": [
      " -3\n"
     ]
    },
    {
     "name": "stdout",
     "output_type": "stream",
     "text": [
      "The number is a negativ number.\n"
     ]
    }
   ],
   "source": [
    "# ask for the number \n",
    "user_number = int(input())\n",
    "if user_number >= 0:\n",
    "    print('The number is a positive number.')\n",
    "else:\n",
    "    print('The number is a negativ number.')"
   ]
  },
  {
   "cell_type": "markdown",
   "metadata": {},
   "source": [
    "### 2.c. We want to securise a pressurized cabins: \n",
    "The max pressure is : pMax = 2.3, and the max area is aMax = 7.41.\n",
    "Ask the user for the actual pression and area\n",
    "- if both, the area and the pression are higher than the pMax and aMax, then write: \"stop immediately\"\n",
    "- if the pressure is higher than the pMax, then write: \"Please, add more area!\"\n",
    "- if the area is higher the aMax, then write: \"Please, lower the area!\"\n",
    "- else, write: \"everything is fine!\" \n"
   ]
  },
  {
   "cell_type": "code",
   "execution_count": 2,
   "metadata": {},
   "outputs": [
    {
     "name": "stdin",
     "output_type": "stream",
     "text": [
      "Pressure: 2\n",
      "Area: 7\n"
     ]
    },
    {
     "name": "stdout",
     "output_type": "stream",
     "text": [
      "Everything is fine!\n"
     ]
    }
   ],
   "source": [
    "# declare the pMax=2.3 and aMax=7.41   # ask for the actual area and volume\n",
    "p = int(input('Pressure:'))\n",
    "a = int(input('Area:'))\n",
    "pMax = 2.3 \n",
    "aMax = 7.41 \n",
    "if p>pMax and a>aMax :\n",
    "    print(\"Stop immediately\")\n",
    "elif p> pMax :\n",
    "    print(\"Please, add more area!\")\n",
    "elif a> aMax :\n",
    "    print(\"Please, lower the area!\")\n",
    "else :\n",
    "    print(\"Everything is fine!\")"
   ]
  },
  {
   "cell_type": "code",
   "execution_count": null,
   "metadata": {},
   "outputs": [],
   "source": []
  }
 ],
 "metadata": {
  "kernelspec": {
   "display_name": "Python 3",
   "language": "python",
   "name": "python3"
  },
  "language_info": {
   "codemirror_mode": {
    "name": "ipython",
    "version": 3
   },
   "file_extension": ".py",
   "mimetype": "text/x-python",
   "name": "python",
   "nbconvert_exporter": "python",
   "pygments_lexer": "ipython3",
   "version": "3.8.3"
  }
 },
 "nbformat": 4,
 "nbformat_minor": 4
}
